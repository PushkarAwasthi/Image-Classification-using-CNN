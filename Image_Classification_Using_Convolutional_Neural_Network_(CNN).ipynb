{
  "nbformat": 4,
  "nbformat_minor": 0,
  "metadata": {
    "colab": {
      "name": "Image Classification Using Convolutional Neural Network (CNN).ipynb",
      "provenance": [],
      "collapsed_sections": []
    },
    "kernelspec": {
      "name": "python3",
      "display_name": "Python 3"
    },
    "language_info": {
      "name": "python"
    }
  },
  "cells": [
    {
      "cell_type": "code",
      "execution_count": 1,
      "metadata": {
        "id": "xM7NRRhDgSoc"
      },
      "outputs": [],
      "source": [
        "import tensorflow as tf\n",
        "from tensorflow.keras import datasets, layers, models\n",
        "import matplotlib.pyplot as plt\n",
        "import numpy as np"
      ]
    },
    {
      "cell_type": "code",
      "source": [
        "(X_train, y_train), (X_test,y_test) = datasets.cifar10.load_data()\n",
        "X_train.shape"
      ],
      "metadata": {
        "colab": {
          "base_uri": "https://localhost:8080/"
        },
        "id": "huCLeiHtgaCf",
        "outputId": "f105dd5b-b482-4b71-ff4a-959829a1d72f"
      },
      "execution_count": 2,
      "outputs": [
        {
          "output_type": "stream",
          "name": "stdout",
          "text": [
            "Downloading data from https://www.cs.toronto.edu/~kriz/cifar-10-python.tar.gz\n",
            "170500096/170498071 [==============================] - 4s 0us/step\n",
            "170508288/170498071 [==============================] - 4s 0us/step\n"
          ]
        },
        {
          "output_type": "execute_result",
          "data": {
            "text/plain": [
              "(50000, 32, 32, 3)"
            ]
          },
          "metadata": {},
          "execution_count": 2
        }
      ]
    },
    {
      "cell_type": "code",
      "source": [
        "X_test.shape"
      ],
      "metadata": {
        "colab": {
          "base_uri": "https://localhost:8080/"
        },
        "id": "O5v9MR3sgkhs",
        "outputId": "deefd100-e6a6-40ff-f54e-b8f7779b83ef"
      },
      "execution_count": 3,
      "outputs": [
        {
          "output_type": "execute_result",
          "data": {
            "text/plain": [
              "(10000, 32, 32, 3)"
            ]
          },
          "metadata": {},
          "execution_count": 3
        }
      ]
    },
    {
      "cell_type": "code",
      "source": [
        "X_train.shape"
      ],
      "metadata": {
        "colab": {
          "base_uri": "https://localhost:8080/"
        },
        "id": "K3BJUey8gqWu",
        "outputId": "0e5baaa0-6a37-40ed-ab3f-55f88646ac1a"
      },
      "execution_count": 4,
      "outputs": [
        {
          "output_type": "execute_result",
          "data": {
            "text/plain": [
              "(50000, 32, 32, 3)"
            ]
          },
          "metadata": {},
          "execution_count": 4
        }
      ]
    },
    {
      "cell_type": "markdown",
      "source": [
        "Here we see there are 50000 training images and 1000 test images"
      ],
      "metadata": {
        "id": "M-wvjKNPgyQi"
      }
    },
    {
      "cell_type": "code",
      "source": [
        "y_train.shape"
      ],
      "metadata": {
        "colab": {
          "base_uri": "https://localhost:8080/"
        },
        "id": "oPvf3zqsgs3p",
        "outputId": "11d00093-0173-42b1-98e7-fb485b93ad15"
      },
      "execution_count": 5,
      "outputs": [
        {
          "output_type": "execute_result",
          "data": {
            "text/plain": [
              "(50000, 1)"
            ]
          },
          "metadata": {},
          "execution_count": 5
        }
      ]
    },
    {
      "cell_type": "code",
      "source": [
        "y_train[:5]"
      ],
      "metadata": {
        "colab": {
          "base_uri": "https://localhost:8080/"
        },
        "id": "Z4SWInGXg1PE",
        "outputId": "68143fbc-d259-40a7-817b-51a7fec1f5cd"
      },
      "execution_count": 7,
      "outputs": [
        {
          "output_type": "execute_result",
          "data": {
            "text/plain": [
              "array([[6],\n",
              "       [9],\n",
              "       [9],\n",
              "       [4],\n",
              "       [1]], dtype=uint8)"
            ]
          },
          "metadata": {},
          "execution_count": 7
        }
      ]
    },
    {
      "cell_type": "markdown",
      "source": [
        "y_train is a 2D array, for our classification having 1D array is good enough. so we will convert this to now 1D array"
      ],
      "metadata": {
        "id": "TGSQzLYbg6Zx"
      }
    },
    {
      "cell_type": "code",
      "source": [
        "y_train = y_train.reshape(-1,)\n",
        "y_train[:5]"
      ],
      "metadata": {
        "colab": {
          "base_uri": "https://localhost:8080/"
        },
        "id": "kLqNs7FRhAhC",
        "outputId": "b0852c4a-11ed-4b81-ca9f-3254cfc2fc1b"
      },
      "execution_count": 8,
      "outputs": [
        {
          "output_type": "execute_result",
          "data": {
            "text/plain": [
              "array([6, 9, 9, 4, 1], dtype=uint8)"
            ]
          },
          "metadata": {},
          "execution_count": 8
        }
      ]
    },
    {
      "cell_type": "code",
      "source": [
        "y_test = y_test.reshape(-1,)"
      ],
      "metadata": {
        "id": "AIFt0BglhCnU"
      },
      "execution_count": 9,
      "outputs": []
    },
    {
      "cell_type": "code",
      "source": [
        "classes = [\"airplane\",\"automobile\",\"bird\",\"cat\",\"deer\",\"dog\",\"frog\",\"horse\",\"ship\",\"truck\"]"
      ],
      "metadata": {
        "id": "aDSd1yQmhFx5"
      },
      "execution_count": 10,
      "outputs": []
    },
    {
      "cell_type": "markdown",
      "source": [
        "Now lets plot some images to see what they are:"
      ],
      "metadata": {
        "id": "0dN7nwsmhSQj"
      }
    },
    {
      "cell_type": "code",
      "source": [
        "def plot_sample(X, y, index):\n",
        "    plt.figure(figsize = (15,2))\n",
        "    plt.imshow(X[index])\n",
        "    plt.xlabel(classes[y[index]])"
      ],
      "metadata": {
        "id": "UDFM8ReuhJKn"
      },
      "execution_count": 11,
      "outputs": []
    },
    {
      "cell_type": "code",
      "source": [
        "plot_sample(X_train, y_train, 0)"
      ],
      "metadata": {
        "colab": {
          "base_uri": "https://localhost:8080/",
          "height": 173
        },
        "id": "pq4MYx6phLxU",
        "outputId": "79ae0cec-210c-43f4-d873-1ff6c7cd43f4"
      },
      "execution_count": 12,
      "outputs": [
        {
          "output_type": "display_data",
          "data": {
            "text/plain": [
              "<Figure size 1080x144 with 1 Axes>"
            ],
            "image/png": "[encoded data removed]"
          },
          "metadata": {
            "needs_background": "light"
          }
        }
      ]
    },
    {
      "cell_type": "code",
      "source": [
        "plot_sample(X_train, y_train, 2)"
      ],
      "metadata": {
        "colab": {
          "base_uri": "https://localhost:8080/",
          "height": 173
        },
        "id": "0kvtWZc6hN0Y",
        "outputId": "1ddbb07b-30b2-4071-dc3b-7dad0f5520a3"
      },
      "execution_count": 14,
      "outputs": [
        {
          "output_type": "display_data",
          "data": {
            "text/plain": [
              "<Figure size 1080x144 with 1 Axes>"
            ],
            "image/png": "[encoded data removed]"
          },
          "metadata": {
            "needs_background": "light"
          }
        }
      ]
    },
    {
      "cell_type": "markdown",
      "source": [
        "Normalize the images to a number from 0 to 1. Image has 3 channels (R,G,B) and each value in the channel can range from 0 to 255. Hence to normalize in 0-->1 range, we need to divide it by 255\n",
        "\n",
        "#Normalizing the training data"
      ],
      "metadata": {
        "id": "VpmTbsF2hiW7"
      }
    },
    {
      "cell_type": "code",
      "source": [
        "X_train = X_train / 255.0\n",
        "X_test = X_test / 255.0"
      ],
      "metadata": {
        "id": "yGNNHlGihbb_"
      },
      "execution_count": 15,
      "outputs": []
    },
    {
      "cell_type": "markdown",
      "source": [
        "#Build simple artificial neural network for image classification"
      ],
      "metadata": {
        "id": "9MKhrZLhhor8"
      }
    },
    {
      "cell_type": "code",
      "source": [
        "ann = models.Sequential([\n",
        "        layers.Flatten(input_shape=(32,32,3)),\n",
        "        layers.Dense(3000, activation='relu'),\n",
        "        layers.Dense(1000, activation='relu'),\n",
        "        layers.Dense(10, activation='softmax')    \n",
        "    ])\n",
        "\n",
        "ann.compile(optimizer='SGD',\n",
        "              loss='sparse_categorical_crossentropy',\n",
        "              metrics=['accuracy'])\n",
        "\n",
        "ann.fit(X_train, y_train, epochs=5)"
      ],
      "metadata": {
        "colab": {
          "base_uri": "https://localhost:8080/"
        },
        "id": "SgtDnXiChni-",
        "outputId": "b1387e5d-a222-4176-bdee-e04406f5f2f4"
      },
      "execution_count": 16,
      "outputs": [
        {
          "output_type": "stream",
          "name": "stdout",
          "text": [
            "Epoch 1/5\n",
            "1563/1563 [==============================] - 95s 61ms/step - loss: 1.8118 - accuracy: 0.3568\n",
            "Epoch 2/5\n",
            "1563/1563 [==============================] - 99s 63ms/step - loss: 1.6232 - accuracy: 0.4267\n",
            "Epoch 3/5\n",
            "1563/1563 [==============================] - 94s 60ms/step - loss: 1.5426 - accuracy: 0.4560\n",
            "Epoch 4/5\n",
            "1563/1563 [==============================] - 93s 60ms/step - loss: 1.4826 - accuracy: 0.4766\n",
            "Epoch 5/5\n",
            "1563/1563 [==============================] - 97s 62ms/step - loss: 1.4315 - accuracy: 0.4954\n"
          ]
        },
        {
          "output_type": "execute_result",
          "data": {
            "text/plain": [
              "<keras.callbacks.History at 0x7f2d10269950>"
            ]
          },
          "metadata": {},
          "execution_count": 16
        }
      ]
    },
    {
      "cell_type": "markdown",
      "source": [
        "You can see that at the end of 5 epochs, accuracy is at around 49%"
      ],
      "metadata": {
        "id": "d6bDUJ8WiLTi"
      }
    },
    {
      "cell_type": "code",
      "source": [
        "from sklearn.metrics import confusion_matrix , classification_report\n",
        "import numpy as np\n",
        "y_pred = ann.predict(X_test)\n",
        "y_pred_classes = [np.argmax(element) for element in y_pred]\n",
        "\n",
        "print(\"Classification Report: \\n\", classification_report(y_test, y_pred_classes))"
      ],
      "metadata": {
        "colab": {
          "base_uri": "https://localhost:8080/"
        },
        "id": "YE4H8Y-LhQW4",
        "outputId": "318e1ef2-0315-4368-b992-21ac7fd96ad9"
      },
      "execution_count": 17,
      "outputs": [
        {
          "output_type": "stream",
          "name": "stdout",
          "text": [
            "Classification Report: \n",
            "               precision    recall  f1-score   support\n",
            "\n",
            "           0       0.60      0.50      0.54      1000\n",
            "           1       0.63      0.59      0.61      1000\n",
            "           2       0.36      0.43      0.39      1000\n",
            "           3       0.32      0.49      0.39      1000\n",
            "           4       0.44      0.39      0.41      1000\n",
            "           5       0.57      0.20      0.30      1000\n",
            "           6       0.53      0.50      0.51      1000\n",
            "           7       0.51      0.63      0.57      1000\n",
            "           8       0.53      0.71      0.60      1000\n",
            "           9       0.63      0.45      0.53      1000\n",
            "\n",
            "    accuracy                           0.49     10000\n",
            "   macro avg       0.51      0.49      0.48     10000\n",
            "weighted avg       0.51      0.49      0.48     10000\n",
            "\n"
          ]
        }
      ]
    },
    {
      "cell_type": "markdown",
      "source": [
        "#Now let us build a convolutional neural network to train our images"
      ],
      "metadata": {
        "id": "r8hFNH1ojwIf"
      }
    },
    {
      "cell_type": "code",
      "source": [
        "cnn = models.Sequential([\n",
        "    layers.Conv2D(filters=32, kernel_size=(3, 3), activation='relu', input_shape=(32, 32, 3)),\n",
        "    layers.MaxPooling2D((2, 2)),\n",
        "    \n",
        "    layers.Conv2D(filters=64, kernel_size=(3, 3), activation='relu'),\n",
        "    layers.MaxPooling2D((2, 2)),\n",
        "    \n",
        "    layers.Flatten(),\n",
        "    layers.Dense(64, activation='relu'),\n",
        "    layers.Dense(10, activation='softmax')\n",
        "])"
      ],
      "metadata": {
        "id": "fXmX_y9BjyMf"
      },
      "execution_count": 18,
      "outputs": []
    },
    {
      "cell_type": "code",
      "source": [
        "cnn.compile(optimizer='adam',\n",
        "              loss='sparse_categorical_crossentropy',\n",
        "              metrics=['accuracy'])"
      ],
      "metadata": {
        "id": "H17Wgwinj0-8"
      },
      "execution_count": 19,
      "outputs": []
    },
    {
      "cell_type": "code",
      "source": [
        "cnn.fit(X_train, y_train, epochs=10)"
      ],
      "metadata": {
        "colab": {
          "base_uri": "https://localhost:8080/"
        },
        "id": "Hl17XdS9j3UU",
        "outputId": "0a1dc386-6eb5-4e26-b6f1-bff85be5db13"
      },
      "execution_count": 20,
      "outputs": [
        {
          "output_type": "stream",
          "name": "stdout",
          "text": [
            "Epoch 1/10\n",
            "1563/1563 [==============================] - 59s 37ms/step - loss: 1.4746 - accuracy: 0.4708\n",
            "Epoch 2/10\n",
            "1563/1563 [==============================] - 58s 37ms/step - loss: 1.1105 - accuracy: 0.6115\n",
            "Epoch 3/10\n",
            "1563/1563 [==============================] - 57s 37ms/step - loss: 0.9855 - accuracy: 0.6556\n",
            "Epoch 4/10\n",
            "1563/1563 [==============================] - 56s 36ms/step - loss: 0.8986 - accuracy: 0.6883\n",
            "Epoch 5/10\n",
            "1563/1563 [==============================] - 57s 37ms/step - loss: 0.8329 - accuracy: 0.7097\n",
            "Epoch 6/10\n",
            "1563/1563 [==============================] - 56s 36ms/step - loss: 0.7796 - accuracy: 0.7270\n",
            "Epoch 7/10\n",
            "1563/1563 [==============================] - 57s 37ms/step - loss: 0.7265 - accuracy: 0.7449\n",
            "Epoch 8/10\n",
            "1563/1563 [==============================] - 57s 37ms/step - loss: 0.6907 - accuracy: 0.7576\n",
            "Epoch 9/10\n",
            "1563/1563 [==============================] - 56s 36ms/step - loss: 0.6460 - accuracy: 0.7740\n",
            "Epoch 10/10\n",
            "1563/1563 [==============================] - 57s 37ms/step - loss: 0.6113 - accuracy: 0.7846\n"
          ]
        },
        {
          "output_type": "execute_result",
          "data": {
            "text/plain": [
              "<keras.callbacks.History at 0x7f2d0c991ed0>"
            ]
          },
          "metadata": {},
          "execution_count": 20
        }
      ]
    },
    {
      "cell_type": "markdown",
      "source": [
        "With CNN, at the end 5 epochs, accuracy was at around 70% which is a significant improvement over ANN. CNN's are best for image classification and gives superb accuracy. Also computation is much less compared to simple ANN as maxpooling reduces the image dimensions while still preserving the features"
      ],
      "metadata": {
        "id": "D_fnr5nAmHZn"
      }
    },
    {
      "cell_type": "code",
      "source": [
        "cnn.evaluate(X_test,y_test)"
      ],
      "metadata": {
        "colab": {
          "base_uri": "https://localhost:8080/"
        },
        "id": "wyKxtMmOmI_l",
        "outputId": "b73c4597-24f0-4be2-adc4-200574357790"
      },
      "execution_count": 21,
      "outputs": [
        {
          "output_type": "stream",
          "name": "stdout",
          "text": [
            "313/313 [==============================] - 4s 12ms/step - loss: 0.9384 - accuracy: 0.6971\n"
          ]
        },
        {
          "output_type": "execute_result",
          "data": {
            "text/plain": [
              "[0.9383512735366821, 0.6970999836921692]"
            ]
          },
          "metadata": {},
          "execution_count": 21
        }
      ]
    },
    {
      "cell_type": "code",
      "source": [
        "y_pred = cnn.predict(X_test)\n",
        "y_pred[:5]"
      ],
      "metadata": {
        "colab": {
          "base_uri": "https://localhost:8080/"
        },
        "id": "CqmWsBWlmN6o",
        "outputId": "60773a7a-0217-4671-a6ed-39e7ad9d1193"
      },
      "execution_count": 22,
      "outputs": [
        {
          "output_type": "execute_result",
          "data": {
            "text/plain": [
              "array([[5.0987664e-04, 1.4344829e-05, 3.4158141e-04, 7.4582809e-01,\n",
              "        1.4127317e-04, 2.1055649e-01, 4.0274389e-02, 7.4223017e-06,\n",
              "        2.2205855e-03, 1.0603488e-04],\n",
              "       [5.0627429e-02, 2.1812277e-01, 1.3900710e-06, 3.9639867e-06,\n",
              "        5.8806791e-07, 7.2254402e-08, 7.2631798e-07, 1.4921244e-07,\n",
              "        7.2484350e-01, 6.3994727e-03],\n",
              "       [5.2769445e-02, 4.3304950e-01, 3.0142546e-03, 3.8410088e-03,\n",
              "        1.1693381e-03, 8.1210572e-05, 6.3679449e-04, 6.5066211e-04,\n",
              "        4.9248537e-01, 1.2302378e-02],\n",
              "       [8.9146870e-01, 3.5552445e-03, 1.6256519e-02, 3.3186707e-03,\n",
              "        3.7742262e-03, 1.6957814e-05, 3.3033625e-03, 1.6167038e-05,\n",
              "        7.8178585e-02, 1.1166347e-04],\n",
              "       [2.7583076e-09, 8.6315658e-06, 7.2997087e-04, 1.3129239e-02,\n",
              "        5.3343815e-01, 5.9410115e-04, 4.5209789e-01, 1.7331566e-07,\n",
              "        1.7524823e-06, 2.0634481e-08]], dtype=float32)"
            ]
          },
          "metadata": {},
          "execution_count": 22
        }
      ]
    },
    {
      "cell_type": "code",
      "source": [
        "y_classes = [np.argmax(element) for element in y_pred]\n",
        "y_classes[:5]"
      ],
      "metadata": {
        "colab": {
          "base_uri": "https://localhost:8080/"
        },
        "id": "yVPvQINNmStQ",
        "outputId": "dc73ce59-b76d-4a52-836d-d3c05d105873"
      },
      "execution_count": 23,
      "outputs": [
        {
          "output_type": "execute_result",
          "data": {
            "text/plain": [
              "[3, 8, 8, 0, 4]"
            ]
          },
          "metadata": {},
          "execution_count": 23
        }
      ]
    },
    {
      "cell_type": "code",
      "source": [
        "y_test[:5]"
      ],
      "metadata": {
        "colab": {
          "base_uri": "https://localhost:8080/"
        },
        "id": "CbgQwF3hmi6G",
        "outputId": "69c283f5-bcae-444b-e951-b0767ecebb76"
      },
      "execution_count": 24,
      "outputs": [
        {
          "output_type": "execute_result",
          "data": {
            "text/plain": [
              "array([3, 8, 8, 0, 6], dtype=uint8)"
            ]
          },
          "metadata": {},
          "execution_count": 24
        }
      ]
    },
    {
      "cell_type": "code",
      "source": [
        "plot_sample(X_test, y_test,3)"
      ],
      "metadata": {
        "colab": {
          "base_uri": "https://localhost:8080/",
          "height": 173
        },
        "id": "lbzbi36tmpx3",
        "outputId": "007f7b3f-26a1-46ab-be9b-d4ee2032e52e"
      },
      "execution_count": 25,
      "outputs": [
        {
          "output_type": "display_data",
          "data": {
            "text/plain": [
              "<Figure size 1080x144 with 1 Axes>"
            ],
            "image/png": "[encoded data removed]"
          },
          "metadata": {
            "needs_background": "light"
          }
        }
      ]
    },
    {
      "cell_type": "code",
      "source": [
        "classes[y_classes[3]]"
      ],
      "metadata": {
        "colab": {
          "base_uri": "https://localhost:8080/",
          "height": 36
        },
        "id": "MuOd8VjWms0a",
        "outputId": "696c1691-10e4-4b6f-8931-21ff618a52b0"
      },
      "execution_count": 28,
      "outputs": [
        {
          "output_type": "execute_result",
          "data": {
            "text/plain": [
              "'airplane'"
            ],
            "application/vnd.google.colaboratory.intrinsic+json": {
              "type": "string"
            }
          },
          "metadata": {},
          "execution_count": 28
        }
      ]
    },
    {
      "cell_type": "code",
      "source": [
        "plot_sample(X_test, y_test,6)"
      ],
      "metadata": {
        "colab": {
          "base_uri": "https://localhost:8080/",
          "height": 173
        },
        "id": "ff2Ize4-m7FP",
        "outputId": "792b8839-7394-46c5-bf89-a92de6b6916b"
      },
      "execution_count": 29,
      "outputs": [
        {
          "output_type": "display_data",
          "data": {
            "text/plain": [
              "<Figure size 1080x144 with 1 Axes>"
            ],
            "image/png": "[encoded data removed]"
          },
          "metadata": {
            "needs_background": "light"
          }
        }
      ]
    },
    {
      "cell_type": "code",
      "source": [
        "classes[y_classes[6]]"
      ],
      "metadata": {
        "colab": {
          "base_uri": "https://localhost:8080/",
          "height": 36
        },
        "id": "I6UqNualmxpT",
        "outputId": "b601754e-c43f-4ea1-9bd4-081ce8beb31e"
      },
      "execution_count": 32,
      "outputs": [
        {
          "output_type": "execute_result",
          "data": {
            "text/plain": [
              "'cat'"
            ],
            "application/vnd.google.colaboratory.intrinsic+json": {
              "type": "string"
            }
          },
          "metadata": {},
          "execution_count": 32
        }
      ]
    }
  ]
}